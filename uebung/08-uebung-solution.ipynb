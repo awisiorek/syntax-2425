{
 "cells": [
  {
   "cell_type": "markdown",
   "metadata": {
    "slideshow": {
     "slide_type": "slide"
    }
   },
   "source": [
    "Syntax natürlicher Sprachen, WS 2024/25\n",
    "\n",
    "# 08 - Übung (Lösung)"
   ]
  },
  {
   "cell_type": "code",
   "execution_count": 2,
   "metadata": {},
   "outputs": [],
   "source": [
    "import nltk\n",
    "from nltk.tree import Tree\n",
    "from nltk.featstruct import FeatStruct\n",
    "from nltk.featstruct import Feature, UnificationFailure, FeatStructReader\n",
    "from sklearn.metrics import accuracy_score\n",
    "import itertools"
   ]
  },
  {
   "cell_type": "code",
   "execution_count": 3,
   "metadata": {},
   "outputs": [],
   "source": [
    "TYPE = nltk.featstruct.TYPE\n",
    "\n",
    "def check_sanity_constraints(th):\n",
    "    for type1, type2 in itertools.product(th, th):\n",
    "        if type1 in th[type2] and type2 in th[type1]:\n",
    "            if type1 != type2:\n",
    "                raise ValueError(\n",
    "                    \"The type hierarchy is not antisymmetric! \" +\n",
    "                    \"{} subsumes {} and vice versa!\".format(\n",
    "                        type1, type2\n",
    "                    )\n",
    "                )\n",
    "\n",
    "def refl_trans_closure(type_hierarchy):\n",
    "    # make everything a set\n",
    "    # and compute reflexive closure\n",
    "    closure = {}\n",
    "    for t in type_hierarchy:\n",
    "        closure[t] = set(type_hierarchy[t])\n",
    "        closure[t].add(t)\n",
    "\n",
    "    # compute transitive closure\n",
    "    still_changes = True\n",
    "    while still_changes:\n",
    "        still_changes = False\n",
    "        for x in closure:\n",
    "            new_for_x = set()\n",
    "            for y in closure[x]:\n",
    "                for z in closure[y]:\n",
    "                    new_for_x.add(z)\n",
    "            len_before = len(closure[x])\n",
    "            closure[x].update(new_for_x)\n",
    "            still_changes |= len(closure[x]) > len_before\n",
    "\n",
    "    return closure\n",
    "\n",
    "class HierarchicalFeature(Feature):\n",
    "    def __init__(self, name, type_hierarchy, **kwargs):\n",
    "        super(HierarchicalFeature, self).__init__(name, **kwargs)\n",
    "\n",
    "        self.hierarchy = refl_trans_closure(type_hierarchy)\n",
    "        check_sanity_constraints(self.hierarchy)\n",
    "\n",
    "    def unify_base_values(self, fval1, fval2, bindings):\n",
    "        candidates = self.hierarchy[fval1].intersection(self.hierarchy[fval2])\n",
    "        score = {t: 0 for t in candidates}\n",
    "        for type1, type2 in itertools.product(candidates, candidates):\n",
    "            if type1 in self.hierarchy[type2]:\n",
    "                score[type1] += 1\n",
    "\n",
    "        return min(candidates, key=score.__getitem__, default=UnificationFailure)"
   ]
  },
  {
   "cell_type": "markdown",
   "metadata": {},
   "source": [
    "## Aufgabe 1 - Kasusrektion, Agreement und Subkategorisierung\n",
    "\n",
    "### Welche der folgenden morphosyntaktischen Beschränkungen ist in den unteren Sätzen jeweils verletzt?\n",
    "\n",
    "1. **Kasusrektion**\n",
    "2. **Agreement** (nominale oder verbale Kongruenz)\n",
    "3. **Subkategorisierung** (Anzahl und Art der verbalen Argumente)"
   ]
  },
  {
   "cell_type": "markdown",
   "metadata": {},
   "source": [
    "(i)  *Ich beobachtet den Mond.*"
   ]
  },
  {
   "cell_type": "code",
   "execution_count": null,
   "metadata": {},
   "outputs": [],
   "source": [
    "# Verbales Agreement (PERS:1 vs. PERS:3)"
   ]
  },
  {
   "cell_type": "markdown",
   "metadata": {},
   "source": [
    "(ii)  *Ich beobachte dem Mond.*"
   ]
  },
  {
   "cell_type": "code",
   "execution_count": null,
   "metadata": {},
   "outputs": [],
   "source": [
    "# Kasusrektion (CASE:dat statt CASE:akk für Objekt-NP)"
   ]
  },
  {
   "cell_type": "markdown",
   "metadata": {},
   "source": [
    "(iii)  *Ich beobachte das Monde.*"
   ]
  },
  {
   "cell_type": "code",
   "execution_count": null,
   "metadata": {},
   "outputs": [],
   "source": [
    "# nominales Agreement (GEN:neutr vs. GEN:mask, NUM:sg vs. NUM:pl)"
   ]
  },
  {
   "cell_type": "markdown",
   "metadata": {},
   "source": [
    "(iii)  *Ich beobachte ihm den Mond.*"
   ]
  },
  {
   "cell_type": "code",
   "execution_count": null,
   "metadata": {},
   "outputs": [],
   "source": [
    "# Subkategorisierung ('beobachten' hat kein indirektes Dativ-Objekt)"
   ]
  },
  {
   "cell_type": "markdown",
   "metadata": {},
   "source": [
    "## Aufgabe 2 - Unifikation und Subsumption\n"
   ]
  },
  {
   "cell_type": "markdown",
   "metadata": {},
   "source": [
    "### a) Stehen die beiden folgenden Merkmalstrukturen in einer Subsumptions- und/oder Unifikationsbeziehung? Wenn ja, geben Sie das Ergebnis der Subsumption bzw. Unifikation an, erläutern Sie andernfalls:\n"
   ]
  },
  {
   "cell_type": "code",
   "execution_count": 3,
   "metadata": {},
   "outputs": [],
   "source": [
    "f0 = FeatStruct(\"[AGR=[NUM=sg]]\") #allgemeiner\n",
    "f1 = FeatStruct(\"[AGR=[NUM=sg, PERS=3]]\") #spezifischer, mehr Informationen"
   ]
  },
  {
   "cell_type": "code",
   "execution_count": 4,
   "metadata": {},
   "outputs": [
    {
     "data": {
      "text/plain": [
       "True"
      ]
     },
     "execution_count": 4,
     "metadata": {},
     "output_type": "execute_result"
    }
   ],
   "source": [
    "#Subsumption (f0 ⊑ f1)\n",
    "f0.subsumes(f1)"
   ]
  },
  {
   "cell_type": "code",
   "execution_count": 5,
   "metadata": {},
   "outputs": [
    {
     "data": {
      "text/plain": [
       "False"
      ]
     },
     "execution_count": 5,
     "metadata": {},
     "output_type": "execute_result"
    }
   ],
   "source": [
    "#Subsumption (f1 ⊑ f0)\n",
    "f1.subsumes(f0)"
   ]
  },
  {
   "cell_type": "code",
   "execution_count": 6,
   "metadata": {},
   "outputs": [
    {
     "name": "stdout",
     "output_type": "stream",
     "text": [
      "[ AGR = [ NUM  = 'sg' ] ]\n",
      "[       [ PERS = 3    ] ]\n"
     ]
    }
   ],
   "source": [
    "#Unification (f0 ⊔ f1)\n",
    "print(f0.unify(f1))"
   ]
  },
  {
   "cell_type": "markdown",
   "metadata": {},
   "source": [
    "### b) Stehen die beiden folgenden Merkmalstrukturen in einer Subsumptions- und/oder Unifikationsbeziehung? Wenn ja, geben Sie das Ergebnis der Subsumption bzw. Unifikation an, erläutern Sie andernfalls:\n"
   ]
  },
  {
   "cell_type": "code",
   "execution_count": 7,
   "metadata": {},
   "outputs": [],
   "source": [
    "f0 = FeatStruct(\"[]\") #allgemeinste feature structure (⊥ \"bottom\")\n",
    "f1 = FeatStruct(\"[AGR=[NUM=sg, PERS=3]]\")"
   ]
  },
  {
   "cell_type": "code",
   "execution_count": 8,
   "metadata": {},
   "outputs": [
    {
     "data": {
      "text/plain": [
       "True"
      ]
     },
     "execution_count": 8,
     "metadata": {},
     "output_type": "execute_result"
    }
   ],
   "source": [
    "#Subsumption (f0 ⊑ f1)\n",
    "f0.subsumes(f1)"
   ]
  },
  {
   "cell_type": "code",
   "execution_count": 9,
   "metadata": {},
   "outputs": [
    {
     "data": {
      "text/plain": [
       "False"
      ]
     },
     "execution_count": 9,
     "metadata": {},
     "output_type": "execute_result"
    }
   ],
   "source": [
    "#Subsumption (f1 ⊑ f0)\n",
    "f1.subsumes(f0)"
   ]
  },
  {
   "cell_type": "code",
   "execution_count": 10,
   "metadata": {},
   "outputs": [
    {
     "name": "stdout",
     "output_type": "stream",
     "text": [
      "[ AGR = [ NUM  = 'sg' ] ]\n",
      "[       [ PERS = 3    ] ]\n"
     ]
    }
   ],
   "source": [
    "#Unification (f0 ⊔ f1)\n",
    "print(f0.unify(f1))"
   ]
  },
  {
   "cell_type": "markdown",
   "metadata": {},
   "source": [
    "### c) Stehen die beiden folgenden Merkmalstrukturen in einer Subsumptions- und/oder Unifikationsbeziehung? Wenn ja, geben Sie das Ergebnis der Subsumption bzw. Unifikation an, erläutern Sie andernfalls:\n"
   ]
  },
  {
   "cell_type": "code",
   "execution_count": 11,
   "metadata": {},
   "outputs": [],
   "source": [
    "f0 = FeatStruct(\"[AGR=[NUM=sg, CASE=nom]]\") \n",
    "f1 = FeatStruct(\"[AGR=[NUM=sg, PERS=3]]\") "
   ]
  },
  {
   "cell_type": "code",
   "execution_count": 12,
   "metadata": {},
   "outputs": [
    {
     "data": {
      "text/plain": [
       "False"
      ]
     },
     "execution_count": 12,
     "metadata": {},
     "output_type": "execute_result"
    }
   ],
   "source": [
    "#Subsumption (f0 ⊑ f1)\n",
    "f0.subsumes(f1)\n",
    "#keine Subsumption, da f0 auch Informationen enthält (CASE=nom), die nicht in f1 enthalten sind"
   ]
  },
  {
   "cell_type": "code",
   "execution_count": 13,
   "metadata": {},
   "outputs": [
    {
     "data": {
      "text/plain": [
       "False"
      ]
     },
     "execution_count": 13,
     "metadata": {},
     "output_type": "execute_result"
    }
   ],
   "source": [
    "#Subsumption (f1 ⊑ f0)\n",
    "f1.subsumes(f0)\n",
    "#keine Subsumption, da f1 auch Informationen enthält (PERS=3), die nicht in f0 enthalten sind"
   ]
  },
  {
   "cell_type": "code",
   "execution_count": 14,
   "metadata": {},
   "outputs": [
    {
     "name": "stdout",
     "output_type": "stream",
     "text": [
      "[       [ CASE = 'nom' ] ]\n",
      "[ AGR = [ NUM  = 'sg'  ] ]\n",
      "[       [ PERS = 3     ] ]\n"
     ]
    }
   ],
   "source": [
    "#Unification (f0 ⊔ f1)\n",
    "print(f0.unify(f1))\n",
    "#  Unifikation funktioniert aber, da Informationen nicht widersprüchlich\n",
    "# d.h. auch Feature Structures, die nicht in Subsumption-Beziehung stehen, können unifizieren"
   ]
  },
  {
   "cell_type": "code",
   "execution_count": 15,
   "metadata": {},
   "outputs": [
    {
     "name": "stdout",
     "output_type": "stream",
     "text": [
      "True\n",
      "True\n"
     ]
    }
   ],
   "source": [
    "# Unifikation als kleinste obere Schranke in der Subsumptionsbeziehung: f0 ⊑ (f0 ⊔ f1), f1 ⊑ (f0 ⊔ f1)\n",
    "f0_f1_unified = f0.unify(f1)\n",
    "print(f0.subsumes(f0_f1_unified))\n",
    "print(f1.subsumes(f0_f1_unified)) "
   ]
  },
  {
   "cell_type": "markdown",
   "metadata": {},
   "source": [
    "### d) Stehen die beiden folgenden Merkmalstrukturen in einer Subsumptions- und/oder Unifikationsbeziehung? Wenn ja, geben Sie das Ergebnis der Subsumption bzw. Unifikation an, erläutern Sie andernfalls:\n"
   ]
  },
  {
   "cell_type": "code",
   "execution_count": 16,
   "metadata": {},
   "outputs": [],
   "source": [
    "f0 = FeatStruct(\"[AGR=[NUM=pl]]\") \n",
    "f1 = FeatStruct(\"[AGR=[NUM=sg, PERS=3]]\")"
   ]
  },
  {
   "cell_type": "code",
   "execution_count": 17,
   "metadata": {},
   "outputs": [
    {
     "data": {
      "text/plain": [
       "False"
      ]
     },
     "execution_count": 17,
     "metadata": {},
     "output_type": "execute_result"
    }
   ],
   "source": [
    "#Subsumption (f0 ⊑ f1)\n",
    "f0.subsumes(f1)"
   ]
  },
  {
   "cell_type": "code",
   "execution_count": 18,
   "metadata": {},
   "outputs": [
    {
     "data": {
      "text/plain": [
       "False"
      ]
     },
     "execution_count": 18,
     "metadata": {},
     "output_type": "execute_result"
    }
   ],
   "source": [
    "#Subsumption (f1 ⊑ f0)\n",
    "f1.subsumes(f0)"
   ]
  },
  {
   "cell_type": "code",
   "execution_count": 19,
   "metadata": {},
   "outputs": [
    {
     "name": "stdout",
     "output_type": "stream",
     "text": [
      "None\n"
     ]
    }
   ],
   "source": [
    "#Unification (f0 ⊔ f1)\n",
    "print(f0.unify(f1))\n",
    "\n",
    "# nicht-unifizierende Merkmale\n",
    "# Erläuterung: Unifikation nur partielle Ordnung, nicht immer definiert bei widersprüchlichen/unvereinbaren Werten"
   ]
  },
  {
   "cell_type": "markdown",
   "metadata": {},
   "source": [
    "## Aufgabe 3 - Unifikation\n",
    "\n",
    "#### Gegeben seien folgende Merkmalstrukturen:"
   ]
  },
  {
   "cell_type": "code",
   "execution_count": 20,
   "metadata": {},
   "outputs": [],
   "source": [
    "f1 = FeatStruct(\n",
    "    '[Vorname=Max, Nachname=Mustermann,' + \n",
    "    'Privat=[Strasse=Hauptstrasse, Ort=[Stadt=Muenchen]]]'\n",
    ")\n",
    "f2 = FeatStruct(\n",
    "    '[Arbeit=[Strasse=\"Oettingenstrasse\", Ort=(1)[Stadt=Muenchen]],' +\n",
    "    'Privat=[Ort->(1)]]')\n",
    "f3 = FeatStruct(\n",
    "    '[Strasse=\"Hauptstrasse\"]'\n",
    ")\n",
    "f4 = FeatStruct(\n",
    "    '[Privat=[Strasse=\"Hauptstrasse\", Ort=[Stadt=Passau]]]'\n",
    ")"
   ]
  },
  {
   "cell_type": "markdown",
   "metadata": {},
   "source": [
    "### a) Unifizieren f1 und f2? Gegeben Sie ggf. das Ergebnis an."
   ]
  },
  {
   "cell_type": "code",
   "execution_count": 21,
   "metadata": {},
   "outputs": [
    {
     "name": "stdout",
     "output_type": "stream",
     "text": [
      "[ Nachname = 'Mustermann'                         ]\n",
      "[                                                 ]\n",
      "[            [ Ort     = [ Stadt = 'Muenchen' ] ] ]\n",
      "[ Privat   = [                                  ] ]\n",
      "[            [ Strasse = 'Hauptstrasse'         ] ]\n",
      "[                                                 ]\n",
      "[ Vorname  = 'Max'                                ]\n"
     ]
    }
   ],
   "source": [
    "print(f1)"
   ]
  },
  {
   "cell_type": "code",
   "execution_count": 22,
   "metadata": {},
   "outputs": [
    {
     "name": "stdout",
     "output_type": "stream",
     "text": [
      "[          [ Ort     = (1) [ Stadt = 'Muenchen' ] ] ]\n",
      "[ Arbeit = [                                      ] ]\n",
      "[          [ Strasse = 'Oettingenstrasse'         ] ]\n",
      "[                                                   ]\n",
      "[ Privat = [ Ort -> (1) ]                           ]\n"
     ]
    }
   ],
   "source": [
    "print(f2)"
   ]
  },
  {
   "cell_type": "code",
   "execution_count": null,
   "metadata": {},
   "outputs": [],
   "source": [
    "# ja"
   ]
  },
  {
   "cell_type": "code",
   "execution_count": 8,
   "metadata": {},
   "outputs": [
    {
     "name": "stdout",
     "output_type": "stream",
     "text": [
      "[            [ Ort     = (1) [ Stadt = 'Muenchen' ] ] ]\n",
      "[ Arbeit   = [                                      ] ]\n",
      "[            [ Strasse = 'Oettingenstrasse'         ] ]\n",
      "[                                                     ]\n",
      "[ Nachname = 'Mustermann'                             ]\n",
      "[                                                     ]\n",
      "[ Privat   = [ Ort     -> (1)           ]             ]\n",
      "[            [ Strasse = 'Hauptstrasse' ]             ]\n",
      "[                                                     ]\n",
      "[ Vorname  = 'Max'                                    ]\n"
     ]
    }
   ],
   "source": [
    "#### Mit der Ausführung des print-Statements können Sie abschließend die Lösung einsehen:\n",
    "print(f1.unify(f2))"
   ]
  },
  {
   "cell_type": "markdown",
   "metadata": {},
   "source": [
    "### b) Unifizieren f2 und f4? Gegeben Sie ggf. das Ergebnis an."
   ]
  },
  {
   "cell_type": "code",
   "execution_count": 23,
   "metadata": {},
   "outputs": [
    {
     "name": "stdout",
     "output_type": "stream",
     "text": [
      "[          [ Ort     = (1) [ Stadt = 'Muenchen' ] ] ]\n",
      "[ Arbeit = [                                      ] ]\n",
      "[          [ Strasse = 'Oettingenstrasse'         ] ]\n",
      "[                                                   ]\n",
      "[ Privat = [ Ort -> (1) ]                           ]\n"
     ]
    }
   ],
   "source": [
    "print(f2)"
   ]
  },
  {
   "cell_type": "code",
   "execution_count": 24,
   "metadata": {},
   "outputs": [
    {
     "name": "stdout",
     "output_type": "stream",
     "text": [
      "[          [ Ort     = [ Stadt = 'Passau' ] ] ]\n",
      "[ Privat = [                                ] ]\n",
      "[          [ Strasse = 'Hauptstrasse'       ] ]\n"
     ]
    }
   ],
   "source": [
    "print(f4)"
   ]
  },
  {
   "cell_type": "code",
   "execution_count": null,
   "metadata": {},
   "outputs": [],
   "source": [
    "# nein"
   ]
  },
  {
   "cell_type": "code",
   "execution_count": 25,
   "metadata": {},
   "outputs": [
    {
     "name": "stdout",
     "output_type": "stream",
     "text": [
      "None\n"
     ]
    }
   ],
   "source": [
    "#### Mit der Ausführung des print-Statements können Sie abschließend die Lösung einsehen:\n",
    "print(f2.unify(f4))"
   ]
  },
  {
   "cell_type": "markdown",
   "metadata": {},
   "source": [
    "## Aufgabe 4 - Typhierarchie\n",
    "\n",
    "#### Gegeben sei folgende Typhierarchie, die ein kombiniertes Person-Numerus-Agreement-Feature als hierarchisch durch Subsumptionsbeziehung gegliederte Featurewerte  modelliert ([1] ⊑ [1sg] usw.).\n"
   ]
  },
  {
   "cell_type": "code",
   "execution_count": 26,
   "metadata": {},
   "outputs": [],
   "source": [
    "type_hierarchy = {\n",
    "    \"1\": [\"1sg\",\"1pl\"],\n",
    "    \"2\": [\"2sg\", \"2pl\"],\n",
    "    \"3\": [\"3sg\", \"3pl\"],\n",
    "    \"sg\": [\"1sg\", \"2sg\", \"3sg\"],\n",
    "    \"pl\": [\"1pl\", \"2pl\", \"3pl\"],\n",
    "    \"1sg\": [],\n",
    "    \"1pl\": [],\n",
    "    \"2sg\": [],\n",
    "    \"2pl\": [],\n",
    "    \"3sg\": [],\n",
    "    \"3pl\": [],\n",
    "}\n",
    "AGR = HierarchicalFeature(\"AGR\", type_hierarchy)\n",
    "reader = FeatStructReader(features=(AGR,))"
   ]
  },
  {
   "cell_type": "markdown",
   "metadata": {},
   "source": [
    "### a) Geben Sie eine (nicht-leere) Merkmalstruktur `f1` aus der Typhierarchie an, sodass gilt:\n",
    "\n",
    "`f1` subsumiert `f0`."
   ]
  },
  {
   "cell_type": "code",
   "execution_count": 30,
   "metadata": {},
   "outputs": [
    {
     "data": {
      "text/plain": [
       "True"
      ]
     },
     "execution_count": 30,
     "metadata": {},
     "output_type": "execute_result"
    }
   ],
   "source": [
    "f0 = reader.fromstring(\"[*AGR*='1sg']\") #strings containing numbers have to be marked as strings\n",
    "f1 = reader.fromstring(\"[*AGR*='1']\")\n",
    "f1.subsumes(f0)"
   ]
  },
  {
   "cell_type": "code",
   "execution_count": 31,
   "metadata": {},
   "outputs": [
    {
     "data": {
      "text/plain": [
       "False"
      ]
     },
     "execution_count": 31,
     "metadata": {},
     "output_type": "execute_result"
    }
   ],
   "source": [
    "f0.subsumes(f1)"
   ]
  },
  {
   "cell_type": "code",
   "execution_count": 32,
   "metadata": {},
   "outputs": [
    {
     "data": {
      "text/plain": [
       "True"
      ]
     },
     "execution_count": 32,
     "metadata": {},
     "output_type": "execute_result"
    }
   ],
   "source": [
    "f1.subsumes(f0)"
   ]
  },
  {
   "cell_type": "code",
   "execution_count": 33,
   "metadata": {},
   "outputs": [
    {
     "name": "stdout",
     "output_type": "stream",
     "text": [
      "[ *AGR* = '1sg' ]\n"
     ]
    }
   ],
   "source": [
    "print(f0.unify(f1))"
   ]
  },
  {
   "cell_type": "markdown",
   "metadata": {},
   "source": [
    "### b) Geben Sie zwei (nicht-leere) Merkmalstrukturen `f1` und `f2` aus der Typhierarchie an, sodass gilt:\n",
    "\n",
    "- `f1` subsumiert NICHT `f0`\n",
    "- `f0` subsumiert  NICHT `f1`\n",
    "- aber `f1` und `f0` sind unifizierbar."
   ]
  },
  {
   "cell_type": "code",
   "execution_count": 34,
   "metadata": {},
   "outputs": [
    {
     "name": "stdout",
     "output_type": "stream",
     "text": [
      "False False\n"
     ]
    }
   ],
   "source": [
    "f0 = reader.fromstring(\"[*AGR*='1']\")\n",
    "f1 = reader.fromstring(\"[*AGR*=sg]\")\n",
    "print(f1.subsumes(f0), f0.subsumes(f1))"
   ]
  },
  {
   "cell_type": "markdown",
   "metadata": {},
   "source": [
    "#### Unifikation als kleinste obere Schranke in der Subsumptionsbeziehung:"
   ]
  },
  {
   "cell_type": "code",
   "execution_count": 35,
   "metadata": {},
   "outputs": [
    {
     "name": "stdout",
     "output_type": "stream",
     "text": [
      "[ *AGR* = '1sg' ]\n"
     ]
    }
   ],
   "source": [
    "#Unification (f0 ⊔ f1)\n",
    "print(f0.unify(f1))\n",
    "\n",
    "#f0 ⊑ (f0 ⊔ f1), hier: 1 ⊑ (1sg)\n",
    "#f1 ⊑ (f0 ⊔ f1), hier: sg ⊑ (1sg)"
   ]
  },
  {
   "cell_type": "markdown",
   "metadata": {},
   "source": [
    "### c) Geben Sie zwei (nicht-leere) Merkmalstrukturen `f1` und `f2` aus der Typhierarchie an, sodass gilt:\n",
    "\n",
    "- `f1` subsumiert NICHT `f0`\n",
    "- `f0` subsumiert  NICHT `f1`\n",
    "- und `f1` und `f0` sind NICHT unifizierbar."
   ]
  },
  {
   "cell_type": "code",
   "execution_count": 37,
   "metadata": {},
   "outputs": [
    {
     "name": "stdout",
     "output_type": "stream",
     "text": [
      "False False\n"
     ]
    }
   ],
   "source": [
    "f0 = reader.fromstring(\"[*AGR*='1sg']\")\n",
    "f1 = reader.fromstring(\"[*AGR*='2sg']\")\n",
    "print(f1.subsumes(f0), f0.subsumes(f1))"
   ]
  },
  {
   "cell_type": "code",
   "execution_count": 38,
   "metadata": {},
   "outputs": [
    {
     "name": "stdout",
     "output_type": "stream",
     "text": [
      "None\n"
     ]
    }
   ],
   "source": [
    "print(f0.unify(f1))"
   ]
  },
  {
   "cell_type": "markdown",
   "metadata": {},
   "source": [
    "## *Aufgabe 5 - Getypte Merkmalstrukturen in CFG*\n",
    "\n",
    "#### Gegeben sei folgende Typhierarchie:\n",
    "\n",
    "$$\\bot \\sqsubseteq \\text{Genitiv}$$\n",
    "$$\\bot \\sqsubseteq \\text{nicht-Genitiv}$$\n",
    "$$\\text{nicht-Genitiv} \\sqsubseteq \\text{Nominativ-Akkusativ}$$\n",
    "$$\\text{nicht-Genitiv} \\sqsubseteq \\text{Dativ}$$\n",
    "$$\\text{Nominativ-Akkusativ} \\sqsubseteq \\text{Nominativ}$$\n",
    "$$\\text{Nominativ-Akkusativ} \\sqsubseteq \\text{Akkusativ}$$\n"
   ]
  },
  {
   "cell_type": "markdown",
   "metadata": {},
   "source": [
    "### a) Implementieren Sie ein Feature `CASE`, das der vorgegebenen Typhierarchie entspricht.\n",
    "\n",
    "#### Hier muss die Typhierarchie in Form eines Dictionary definiert werden:"
   ]
  },
  {
   "cell_type": "code",
   "execution_count": 4,
   "metadata": {},
   "outputs": [],
   "source": [
    "type_hierarchy = {\n",
    "    \"nonGen\": [\"NomAkk\", \"Dat\"],\n",
    "    \"NomAkk\": [\"Nom\", \"Akk\"],\n",
    "    \"Dat\": [],\n",
    "    \"Akk\": [],\n",
    "    \"Gen\": [],\n",
    "    \"Nom\": []\n",
    "}"
   ]
  },
  {
   "cell_type": "code",
   "execution_count": 5,
   "metadata": {},
   "outputs": [],
   "source": [
    "CASE = HierarchicalFeature(\"CASE\", type_hierarchy)\n",
    "reader = FeatStructReader(features=(CASE,))"
   ]
  },
  {
   "cell_type": "markdown",
   "metadata": {},
   "source": [
    "### b) Geben Sie eine (nicht-leere) Merkmalstruktur `f1`  aus der Typhierarchie an, sodass gilt:\n",
    "\n",
    "`f1` subsumiert NICHT `f0`."
   ]
  },
  {
   "cell_type": "code",
   "execution_count": 6,
   "metadata": {},
   "outputs": [
    {
     "data": {
      "text/plain": [
       "False"
      ]
     },
     "execution_count": 6,
     "metadata": {},
     "output_type": "execute_result"
    }
   ],
   "source": [
    "f0 = reader.fromstring(\"[*CASE*=NomAkk]\")\n",
    "f1 = reader.fromstring(\"[*CASE*=Nom]\")\n",
    "f1.subsumes(f0)"
   ]
  },
  {
   "cell_type": "code",
   "execution_count": 7,
   "metadata": {},
   "outputs": [
    {
     "data": {
      "text/plain": [
       "True"
      ]
     },
     "execution_count": 7,
     "metadata": {},
     "output_type": "execute_result"
    }
   ],
   "source": [
    "f0.subsumes(f1)"
   ]
  },
  {
   "cell_type": "code",
   "execution_count": 8,
   "metadata": {},
   "outputs": [
    {
     "name": "stdout",
     "output_type": "stream",
     "text": [
      "[ *CASE* = 'Nom' ]\n"
     ]
    }
   ],
   "source": [
    "print(f0.unify(f1))"
   ]
  },
  {
   "cell_type": "markdown",
   "metadata": {},
   "source": [
    "### c) Nutzen Sie das getypte `CASE`-Feature nun, um Übergenerierung in folgender Grammatik zu vermeiden:"
   ]
  },
  {
   "cell_type": "code",
   "execution_count": 9,
   "metadata": {},
   "outputs": [],
   "source": [
    "# minimale Lösung, verhindert nur die Übergenerierung des Negativsatzes (\"des Mannes schläft\")\n",
    "grammar = \"\"\"\n",
    "S -> NP[*CASE*=Nom] VP\n",
    "NP[*CASE*=?c] -> DET NOM[*CASE*=?c]\n",
    "NOM[*CASE*=?c] -> N NP | N[*CASE*=?c]\n",
    "VP -> V\n",
    "\n",
    "V -> \"schläft\"\n",
    "DET[GEN=mask] -> \"der\" | \"des\"\n",
    "DET[GEN=fem] -> \"die\" | \"der\"\n",
    "DET[GEN=neut] -> \"das\" | \"des\"\n",
    "\n",
    "N[GEN=mask, *CASE*=nonGen] -> \"Mann\"\n",
    "N[GEN=mask, *CASE*=Gen] -> \"Mannes\"\n",
    "\n",
    "N[GEN=fem] -> \"Frau\"\n",
    "N[GEN=neut] -> \"Kind\" | \"Kindes\"\n",
    "\"\"\""
   ]
  },
  {
   "cell_type": "code",
   "execution_count": 10,
   "metadata": {},
   "outputs": [],
   "source": [
    "CASE = HierarchicalFeature(\"CASE\", type_hierarchy)\n",
    "compiled_grammar = nltk.grammar.FeatureGrammar.fromstring(\n",
    "    grammar, features=(CASE, TYPE)\n",
    ")\n",
    "parser = nltk.FeatureEarleyChartParser(compiled_grammar)"
   ]
  },
  {
   "cell_type": "markdown",
   "metadata": {},
   "source": [
    "#### Folgendes sollte funktionieren:"
   ]
  },
  {
   "cell_type": "code",
   "execution_count": 11,
   "metadata": {},
   "outputs": [
    {
     "data": {
      "image/svg+xml": [
       "<svg baseProfile=\"full\" height=\"312px\" preserveAspectRatio=\"xMidYMid meet\" style=\"font-family: times, serif; font-weight:normal; font-style: normal; font-size: 16px;\" version=\"1.1\" viewBox=\"0,0,688.0,312.0\" width=\"688px\" xmlns=\"http://www.w3.org/2000/svg\" xmlns:ev=\"http://www.w3.org/2001/xml-events\" xmlns:xlink=\"http://www.w3.org/1999/xlink\"><defs /><svg width=\"100%\" x=\"0\" y=\"0em\"><defs /><text text-anchor=\"middle\" x=\"50%\" y=\"1em\">S[]</text></svg><svg width=\"89.5349%\" x=\"0%\" y=\"3em\"><defs /><svg width=\"100%\" x=\"0\" y=\"0em\"><defs /><text text-anchor=\"middle\" x=\"50%\" y=\"1em\">NP[*CASE*=?c]</text></svg><svg width=\"22.0779%\" x=\"0%\" y=\"3em\"><defs /><svg width=\"100%\" x=\"0\" y=\"0em\"><defs /><text text-anchor=\"middle\" x=\"50%\" y=\"1em\">DET[GEN='neut']</text></svg><svg width=\"100%\" x=\"0%\" y=\"3em\"><defs /><svg width=\"100%\" x=\"0\" y=\"0em\"><defs /><text text-anchor=\"middle\" x=\"50%\" y=\"1em\">das</text></svg></svg><line stroke=\"black\" x1=\"50%\" x2=\"50%\" y1=\"1.2em\" y2=\"3em\" /></svg><line stroke=\"black\" x1=\"50%\" x2=\"11.039%\" y1=\"1.2em\" y2=\"3em\" /><svg width=\"77.9221%\" x=\"22.0779%\" y=\"3em\"><defs /><svg width=\"100%\" x=\"0\" y=\"0em\"><defs /><text text-anchor=\"middle\" x=\"50%\" y=\"1em\">NOM[*CASE*=?c]</text></svg><svg width=\"25%\" x=\"0%\" y=\"3em\"><defs /><svg width=\"100%\" x=\"0\" y=\"0em\"><defs /><text text-anchor=\"middle\" x=\"50%\" y=\"1em\">N[GEN='neut']</text></svg><svg width=\"100%\" x=\"0%\" y=\"3em\"><defs /><svg width=\"100%\" x=\"0\" y=\"0em\"><defs /><text text-anchor=\"middle\" x=\"50%\" y=\"1em\">Kind</text></svg></svg><line stroke=\"black\" x1=\"50%\" x2=\"50%\" y1=\"1.2em\" y2=\"3em\" /></svg><line stroke=\"black\" x1=\"50%\" x2=\"12.5%\" y1=\"1.2em\" y2=\"3em\" /><svg width=\"75%\" x=\"25%\" y=\"3em\"><defs /><svg width=\"100%\" x=\"0\" y=\"0em\"><defs /><text text-anchor=\"middle\" x=\"50%\" y=\"1em\">NP[*CASE*='Gen']</text></svg><svg width=\"37.7778%\" x=\"0%\" y=\"3em\"><defs /><svg width=\"100%\" x=\"0\" y=\"0em\"><defs /><text text-anchor=\"middle\" x=\"50%\" y=\"1em\">DET[GEN='neut']</text></svg><svg width=\"100%\" x=\"0%\" y=\"3em\"><defs /><svg width=\"100%\" x=\"0\" y=\"0em\"><defs /><text text-anchor=\"middle\" x=\"50%\" y=\"1em\">des</text></svg></svg><line stroke=\"black\" x1=\"50%\" x2=\"50%\" y1=\"1.2em\" y2=\"3em\" /></svg><line stroke=\"black\" x1=\"50%\" x2=\"18.8889%\" y1=\"1.2em\" y2=\"3em\" /><svg width=\"62.2222%\" x=\"37.7778%\" y=\"3em\"><defs /><svg width=\"100%\" x=\"0\" y=\"0em\"><defs /><text text-anchor=\"middle\" x=\"50%\" y=\"1em\">NOM[*CASE*='Gen']</text></svg><svg width=\"100%\" x=\"0%\" y=\"3em\"><defs /><svg width=\"100%\" x=\"0\" y=\"0em\"><defs /><text text-anchor=\"middle\" x=\"50%\" y=\"1em\">N[*CASE*='Gen',GEN='mask']</text></svg><svg width=\"100%\" x=\"0%\" y=\"3em\"><defs /><svg width=\"100%\" x=\"0\" y=\"0em\"><defs /><text text-anchor=\"middle\" x=\"50%\" y=\"1em\">Mannes</text></svg></svg><line stroke=\"black\" x1=\"50%\" x2=\"50%\" y1=\"1.2em\" y2=\"3em\" /></svg><line stroke=\"black\" x1=\"50%\" x2=\"50%\" y1=\"1.2em\" y2=\"3em\" /></svg><line stroke=\"black\" x1=\"50%\" x2=\"68.8889%\" y1=\"1.2em\" y2=\"3em\" /></svg><line stroke=\"black\" x1=\"50%\" x2=\"62.5%\" y1=\"1.2em\" y2=\"3em\" /></svg><line stroke=\"black\" x1=\"50%\" x2=\"61.039%\" y1=\"1.2em\" y2=\"3em\" /></svg><line stroke=\"black\" x1=\"50%\" x2=\"44.7674%\" y1=\"1.2em\" y2=\"3em\" /><svg width=\"10.4651%\" x=\"89.5349%\" y=\"3em\"><defs /><svg width=\"100%\" x=\"0\" y=\"0em\"><defs /><text text-anchor=\"middle\" x=\"50%\" y=\"1em\">VP[]</text></svg><svg width=\"100%\" x=\"0%\" y=\"3em\"><defs /><svg width=\"100%\" x=\"0\" y=\"0em\"><defs /><text text-anchor=\"middle\" x=\"50%\" y=\"1em\">V[]</text></svg><svg width=\"100%\" x=\"0%\" y=\"3em\"><defs /><svg width=\"100%\" x=\"0\" y=\"0em\"><defs /><text text-anchor=\"middle\" x=\"50%\" y=\"1em\">schläft</text></svg></svg><line stroke=\"black\" x1=\"50%\" x2=\"50%\" y1=\"1.2em\" y2=\"3em\" /></svg><line stroke=\"black\" x1=\"50%\" x2=\"50%\" y1=\"1.2em\" y2=\"3em\" /></svg><line stroke=\"black\" x1=\"50%\" x2=\"94.7674%\" y1=\"1.2em\" y2=\"3em\" /></svg>"
      ],
      "text/plain": [
       "Tree('S[]', [Tree('NP[*CASE*=?c]', [Tree(\"DET[GEN='neut']\", ['das']), Tree('NOM[*CASE*=?c]', [Tree(\"N[GEN='neut']\", ['Kind']), Tree(\"NP[*CASE*='Gen']\", [Tree(\"DET[GEN='neut']\", ['des']), Tree(\"NOM[*CASE*='Gen']\", [Tree(\"N[*CASE*='Gen',GEN='mask']\", ['Mannes'])])])])]), Tree('VP[]', [Tree('V[]', ['schläft'])])])"
      ]
     },
     "metadata": {},
     "output_type": "display_data"
    },
    {
     "data": {
      "image/svg+xml": [
       "<svg baseProfile=\"full\" height=\"312px\" preserveAspectRatio=\"xMidYMid meet\" style=\"font-family: times, serif; font-weight:normal; font-style: normal; font-size: 16px;\" version=\"1.1\" viewBox=\"0,0,688.0,312.0\" width=\"688px\" xmlns=\"http://www.w3.org/2000/svg\" xmlns:ev=\"http://www.w3.org/2001/xml-events\" xmlns:xlink=\"http://www.w3.org/1999/xlink\"><defs /><svg width=\"100%\" x=\"0\" y=\"0em\"><defs /><text text-anchor=\"middle\" x=\"50%\" y=\"1em\">S[]</text></svg><svg width=\"89.5349%\" x=\"0%\" y=\"3em\"><defs /><svg width=\"100%\" x=\"0\" y=\"0em\"><defs /><text text-anchor=\"middle\" x=\"50%\" y=\"1em\">NP[*CASE*=?c]</text></svg><svg width=\"22.0779%\" x=\"0%\" y=\"3em\"><defs /><svg width=\"100%\" x=\"0\" y=\"0em\"><defs /><text text-anchor=\"middle\" x=\"50%\" y=\"1em\">DET[GEN='neut']</text></svg><svg width=\"100%\" x=\"0%\" y=\"3em\"><defs /><svg width=\"100%\" x=\"0\" y=\"0em\"><defs /><text text-anchor=\"middle\" x=\"50%\" y=\"1em\">das</text></svg></svg><line stroke=\"black\" x1=\"50%\" x2=\"50%\" y1=\"1.2em\" y2=\"3em\" /></svg><line stroke=\"black\" x1=\"50%\" x2=\"11.039%\" y1=\"1.2em\" y2=\"3em\" /><svg width=\"77.9221%\" x=\"22.0779%\" y=\"3em\"><defs /><svg width=\"100%\" x=\"0\" y=\"0em\"><defs /><text text-anchor=\"middle\" x=\"50%\" y=\"1em\">NOM[*CASE*=?c]</text></svg><svg width=\"25%\" x=\"0%\" y=\"3em\"><defs /><svg width=\"100%\" x=\"0\" y=\"0em\"><defs /><text text-anchor=\"middle\" x=\"50%\" y=\"1em\">N[GEN='neut']</text></svg><svg width=\"100%\" x=\"0%\" y=\"3em\"><defs /><svg width=\"100%\" x=\"0\" y=\"0em\"><defs /><text text-anchor=\"middle\" x=\"50%\" y=\"1em\">Kind</text></svg></svg><line stroke=\"black\" x1=\"50%\" x2=\"50%\" y1=\"1.2em\" y2=\"3em\" /></svg><line stroke=\"black\" x1=\"50%\" x2=\"12.5%\" y1=\"1.2em\" y2=\"3em\" /><svg width=\"75%\" x=\"25%\" y=\"3em\"><defs /><svg width=\"100%\" x=\"0\" y=\"0em\"><defs /><text text-anchor=\"middle\" x=\"50%\" y=\"1em\">NP[*CASE*='Gen']</text></svg><svg width=\"37.7778%\" x=\"0%\" y=\"3em\"><defs /><svg width=\"100%\" x=\"0\" y=\"0em\"><defs /><text text-anchor=\"middle\" x=\"50%\" y=\"1em\">DET[GEN='mask']</text></svg><svg width=\"100%\" x=\"0%\" y=\"3em\"><defs /><svg width=\"100%\" x=\"0\" y=\"0em\"><defs /><text text-anchor=\"middle\" x=\"50%\" y=\"1em\">des</text></svg></svg><line stroke=\"black\" x1=\"50%\" x2=\"50%\" y1=\"1.2em\" y2=\"3em\" /></svg><line stroke=\"black\" x1=\"50%\" x2=\"18.8889%\" y1=\"1.2em\" y2=\"3em\" /><svg width=\"62.2222%\" x=\"37.7778%\" y=\"3em\"><defs /><svg width=\"100%\" x=\"0\" y=\"0em\"><defs /><text text-anchor=\"middle\" x=\"50%\" y=\"1em\">NOM[*CASE*='Gen']</text></svg><svg width=\"100%\" x=\"0%\" y=\"3em\"><defs /><svg width=\"100%\" x=\"0\" y=\"0em\"><defs /><text text-anchor=\"middle\" x=\"50%\" y=\"1em\">N[*CASE*='Gen',GEN='mask']</text></svg><svg width=\"100%\" x=\"0%\" y=\"3em\"><defs /><svg width=\"100%\" x=\"0\" y=\"0em\"><defs /><text text-anchor=\"middle\" x=\"50%\" y=\"1em\">Mannes</text></svg></svg><line stroke=\"black\" x1=\"50%\" x2=\"50%\" y1=\"1.2em\" y2=\"3em\" /></svg><line stroke=\"black\" x1=\"50%\" x2=\"50%\" y1=\"1.2em\" y2=\"3em\" /></svg><line stroke=\"black\" x1=\"50%\" x2=\"68.8889%\" y1=\"1.2em\" y2=\"3em\" /></svg><line stroke=\"black\" x1=\"50%\" x2=\"62.5%\" y1=\"1.2em\" y2=\"3em\" /></svg><line stroke=\"black\" x1=\"50%\" x2=\"61.039%\" y1=\"1.2em\" y2=\"3em\" /></svg><line stroke=\"black\" x1=\"50%\" x2=\"44.7674%\" y1=\"1.2em\" y2=\"3em\" /><svg width=\"10.4651%\" x=\"89.5349%\" y=\"3em\"><defs /><svg width=\"100%\" x=\"0\" y=\"0em\"><defs /><text text-anchor=\"middle\" x=\"50%\" y=\"1em\">VP[]</text></svg><svg width=\"100%\" x=\"0%\" y=\"3em\"><defs /><svg width=\"100%\" x=\"0\" y=\"0em\"><defs /><text text-anchor=\"middle\" x=\"50%\" y=\"1em\">V[]</text></svg><svg width=\"100%\" x=\"0%\" y=\"3em\"><defs /><svg width=\"100%\" x=\"0\" y=\"0em\"><defs /><text text-anchor=\"middle\" x=\"50%\" y=\"1em\">schläft</text></svg></svg><line stroke=\"black\" x1=\"50%\" x2=\"50%\" y1=\"1.2em\" y2=\"3em\" /></svg><line stroke=\"black\" x1=\"50%\" x2=\"50%\" y1=\"1.2em\" y2=\"3em\" /></svg><line stroke=\"black\" x1=\"50%\" x2=\"94.7674%\" y1=\"1.2em\" y2=\"3em\" /></svg>"
      ],
      "text/plain": [
       "Tree('S[]', [Tree('NP[*CASE*=?c]', [Tree(\"DET[GEN='neut']\", ['das']), Tree('NOM[*CASE*=?c]', [Tree(\"N[GEN='neut']\", ['Kind']), Tree(\"NP[*CASE*='Gen']\", [Tree(\"DET[GEN='mask']\", ['des']), Tree(\"NOM[*CASE*='Gen']\", [Tree(\"N[*CASE*='Gen',GEN='mask']\", ['Mannes'])])])])]), Tree('VP[]', [Tree('V[]', ['schläft'])])])"
      ]
     },
     "metadata": {},
     "output_type": "display_data"
    }
   ],
   "source": [
    "for t in parser.parse(\"das Kind des Mannes schläft\".split()):\n",
    "    t = Tree.fromstring(str(t).replace(\", \",\",\"))\n",
    "#    t.pretty_print(unicodelines=True)\n",
    "    display(t)"
   ]
  },
  {
   "cell_type": "markdown",
   "metadata": {},
   "source": [
    "#### Folgendes sollte leer sein:"
   ]
  },
  {
   "cell_type": "code",
   "execution_count": 12,
   "metadata": {},
   "outputs": [
    {
     "data": {
      "text/plain": [
       "[]"
      ]
     },
     "execution_count": 12,
     "metadata": {},
     "output_type": "execute_result"
    }
   ],
   "source": [
    "list(parser.parse(\"des Mannes schläft\".split()))"
   ]
  },
  {
   "cell_type": "markdown",
   "metadata": {},
   "source": [
    "### Vollständige Lösung (verhindert alle mögliche Übergenerierung)"
   ]
  },
  {
   "cell_type": "code",
   "execution_count": 19,
   "metadata": {},
   "outputs": [],
   "source": [
    "# vollständige Lösung\n",
    "grammar = \"\"\"\n",
    "S -> NP[*CASE*=Nom] VP\n",
    "NP[*CASE*=?x] -> DET[*CASE*=?x,GEN=?y] NOM[*CASE*=?x,GEN=?y]\n",
    "NOM[*CASE*=?x,GEN=?y] -> N[*CASE*=?x,GEN=?y] NP[*CASE*=Gen] | N[*CASE*=?x,GEN=?y]\n",
    "VP -> V\n",
    "\n",
    "V -> \"schläft\"\n",
    "DET[GEN=mask,*CASE*=Nom] -> \"der\"\n",
    "DET[GEN=mask,*CASE*=Gen] -> \"des\"\n",
    "DET[GEN=fem,*CASE*=NomAkk] -> \"die\"\n",
    "DET[GEN=fem,*CASE*=Gen] -> \"der\"\n",
    "DET[GEN=fem,*CASE*=Dat] -> \"der\"\n",
    "DET[GEN=neut,*CASE*=NomAkk] -> \"das\"\n",
    "DET[GEN=neut,*CASE*=Gen] -> \"des\"\n",
    "\n",
    "N[GEN=mask,*CASE*=nonGen] -> \"Mann\"\n",
    "N[GEN=mask,*CASE*=Gen] -> \"Mannes\"\n",
    "N[GEN=fem] -> \"Frau\"\n",
    "N[GEN=neut,*CASE*=nonGen] -> \"Kind\"\n",
    "N[GEN=neut,*CASE*=Gen] -> \"Kindes\"\n",
    "\"\"\""
   ]
  },
  {
   "cell_type": "code",
   "execution_count": 20,
   "metadata": {},
   "outputs": [],
   "source": [
    "CASE = HierarchicalFeature(\"CASE\", type_hierarchy)\n",
    "compiled_grammar = nltk.grammar.FeatureGrammar.fromstring(\n",
    "    grammar, features=(CASE, TYPE)\n",
    ")\n",
    "parser = nltk.FeatureEarleyChartParser(compiled_grammar)"
   ]
  },
  {
   "cell_type": "code",
   "execution_count": 21,
   "metadata": {},
   "outputs": [
    {
     "data": {
      "image/svg+xml": [
       "<svg baseProfile=\"full\" height=\"312px\" preserveAspectRatio=\"xMidYMid meet\" style=\"font-family: times, serif; font-weight:normal; font-style: normal; font-size: 16px;\" version=\"1.1\" viewBox=\"0,0,1064.0,312.0\" width=\"1064px\" xmlns=\"http://www.w3.org/2000/svg\" xmlns:ev=\"http://www.w3.org/2001/xml-events\" xmlns:xlink=\"http://www.w3.org/1999/xlink\"><defs /><svg width=\"100%\" x=\"0\" y=\"0em\"><defs /><text text-anchor=\"middle\" x=\"50%\" y=\"1em\">S[]</text></svg><svg width=\"93.2331%\" x=\"0%\" y=\"3em\"><defs /><svg width=\"100%\" x=\"0\" y=\"0em\"><defs /><text text-anchor=\"middle\" x=\"50%\" y=\"1em\">NP[*CASE*='NomAkk']</text></svg><svg width=\"26.6129%\" x=\"0%\" y=\"3em\"><defs /><svg width=\"100%\" x=\"0\" y=\"0em\"><defs /><text text-anchor=\"middle\" x=\"50%\" y=\"1em\">DET[*CASE*='NomAkk',GEN='neut']</text></svg><svg width=\"100%\" x=\"0%\" y=\"3em\"><defs /><svg width=\"100%\" x=\"0\" y=\"0em\"><defs /><text text-anchor=\"middle\" x=\"50%\" y=\"1em\">das</text></svg></svg><line stroke=\"black\" x1=\"50%\" x2=\"50%\" y1=\"1.2em\" y2=\"3em\" /></svg><line stroke=\"black\" x1=\"50%\" x2=\"13.3065%\" y1=\"1.2em\" y2=\"3em\" /><svg width=\"73.3871%\" x=\"26.6129%\" y=\"3em\"><defs /><svg width=\"100%\" x=\"0\" y=\"0em\"><defs /><text text-anchor=\"middle\" x=\"50%\" y=\"1em\">NOM[*CASE*='nonGen',GEN='neut']</text></svg><svg width=\"34.0659%\" x=\"0%\" y=\"3em\"><defs /><svg width=\"100%\" x=\"0\" y=\"0em\"><defs /><text text-anchor=\"middle\" x=\"50%\" y=\"1em\">N[*CASE*='nonGen',GEN='neut']</text></svg><svg width=\"100%\" x=\"0%\" y=\"3em\"><defs /><svg width=\"100%\" x=\"0\" y=\"0em\"><defs /><text text-anchor=\"middle\" x=\"50%\" y=\"1em\">Kind</text></svg></svg><line stroke=\"black\" x1=\"50%\" x2=\"50%\" y1=\"1.2em\" y2=\"3em\" /></svg><line stroke=\"black\" x1=\"50%\" x2=\"17.033%\" y1=\"1.2em\" y2=\"3em\" /><svg width=\"65.9341%\" x=\"34.0659%\" y=\"3em\"><defs /><svg width=\"100%\" x=\"0\" y=\"0em\"><defs /><text text-anchor=\"middle\" x=\"50%\" y=\"1em\">NP[*CASE*='Gen']</text></svg><svg width=\"50%\" x=\"0%\" y=\"3em\"><defs /><svg width=\"100%\" x=\"0\" y=\"0em\"><defs /><text text-anchor=\"middle\" x=\"50%\" y=\"1em\">DET[*CASE*='Gen',GEN='mask']</text></svg><svg width=\"100%\" x=\"0%\" y=\"3em\"><defs /><svg width=\"100%\" x=\"0\" y=\"0em\"><defs /><text text-anchor=\"middle\" x=\"50%\" y=\"1em\">des</text></svg></svg><line stroke=\"black\" x1=\"50%\" x2=\"50%\" y1=\"1.2em\" y2=\"3em\" /></svg><line stroke=\"black\" x1=\"50%\" x2=\"25%\" y1=\"1.2em\" y2=\"3em\" /><svg width=\"50%\" x=\"50%\" y=\"3em\"><defs /><svg width=\"100%\" x=\"0\" y=\"0em\"><defs /><text text-anchor=\"middle\" x=\"50%\" y=\"1em\">NOM[*CASE*='Gen',GEN='mask']</text></svg><svg width=\"100%\" x=\"0%\" y=\"3em\"><defs /><svg width=\"100%\" x=\"0\" y=\"0em\"><defs /><text text-anchor=\"middle\" x=\"50%\" y=\"1em\">N[*CASE*='Gen',GEN='mask']</text></svg><svg width=\"100%\" x=\"0%\" y=\"3em\"><defs /><svg width=\"100%\" x=\"0\" y=\"0em\"><defs /><text text-anchor=\"middle\" x=\"50%\" y=\"1em\">Mannes</text></svg></svg><line stroke=\"black\" x1=\"50%\" x2=\"50%\" y1=\"1.2em\" y2=\"3em\" /></svg><line stroke=\"black\" x1=\"50%\" x2=\"50%\" y1=\"1.2em\" y2=\"3em\" /></svg><line stroke=\"black\" x1=\"50%\" x2=\"75%\" y1=\"1.2em\" y2=\"3em\" /></svg><line stroke=\"black\" x1=\"50%\" x2=\"67.033%\" y1=\"1.2em\" y2=\"3em\" /></svg><line stroke=\"black\" x1=\"50%\" x2=\"63.3065%\" y1=\"1.2em\" y2=\"3em\" /></svg><line stroke=\"black\" x1=\"50%\" x2=\"46.6165%\" y1=\"1.2em\" y2=\"3em\" /><svg width=\"6.76692%\" x=\"93.2331%\" y=\"3em\"><defs /><svg width=\"100%\" x=\"0\" y=\"0em\"><defs /><text text-anchor=\"middle\" x=\"50%\" y=\"1em\">VP[]</text></svg><svg width=\"100%\" x=\"0%\" y=\"3em\"><defs /><svg width=\"100%\" x=\"0\" y=\"0em\"><defs /><text text-anchor=\"middle\" x=\"50%\" y=\"1em\">V[]</text></svg><svg width=\"100%\" x=\"0%\" y=\"3em\"><defs /><svg width=\"100%\" x=\"0\" y=\"0em\"><defs /><text text-anchor=\"middle\" x=\"50%\" y=\"1em\">schläft</text></svg></svg><line stroke=\"black\" x1=\"50%\" x2=\"50%\" y1=\"1.2em\" y2=\"3em\" /></svg><line stroke=\"black\" x1=\"50%\" x2=\"50%\" y1=\"1.2em\" y2=\"3em\" /></svg><line stroke=\"black\" x1=\"50%\" x2=\"96.6165%\" y1=\"1.2em\" y2=\"3em\" /></svg>"
      ],
      "text/plain": [
       "Tree('S[]', [Tree(\"NP[*CASE*='NomAkk']\", [Tree(\"DET[*CASE*='NomAkk',GEN='neut']\", ['das']), Tree(\"NOM[*CASE*='nonGen',GEN='neut']\", [Tree(\"N[*CASE*='nonGen',GEN='neut']\", ['Kind']), Tree(\"NP[*CASE*='Gen']\", [Tree(\"DET[*CASE*='Gen',GEN='mask']\", ['des']), Tree(\"NOM[*CASE*='Gen',GEN='mask']\", [Tree(\"N[*CASE*='Gen',GEN='mask']\", ['Mannes'])])])])]), Tree('VP[]', [Tree('V[]', ['schläft'])])])"
      ]
     },
     "metadata": {},
     "output_type": "display_data"
    }
   ],
   "source": [
    "for t in parser.parse(\"das Kind des Mannes schläft\".split()):\n",
    "    t = Tree.fromstring(str(t).replace(\", \",\",\"))\n",
    "#    t.pretty_print(unicodelines=True)\n",
    "    display(t)"
   ]
  }
 ],
 "metadata": {
  "kernelspec": {
   "display_name": "Python 3 (ipykernel)",
   "language": "python",
   "name": "python3"
  },
  "language_info": {
   "codemirror_mode": {
    "name": "ipython",
    "version": 3
   },
   "file_extension": ".py",
   "mimetype": "text/x-python",
   "name": "python",
   "nbconvert_exporter": "python",
   "pygments_lexer": "ipython3",
   "version": "3.9.12"
  }
 },
 "nbformat": 4,
 "nbformat_minor": 2
}
